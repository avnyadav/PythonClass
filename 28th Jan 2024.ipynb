{
 "cells": [
  {
   "cell_type": "code",
   "execution_count": 1,
   "metadata": {},
   "outputs": [
    {
     "data": {
      "text/plain": [
       "2"
      ]
     },
     "execution_count": 1,
     "metadata": {},
     "output_type": "execute_result"
    }
   ],
   "source": [
    "\"avnisha\".count(\"a\")"
   ]
  },
  {
   "cell_type": "code",
   "execution_count": 2,
   "metadata": {},
   "outputs": [],
   "source": [
    "var=\"BANANA\""
   ]
  },
  {
   "cell_type": "code",
   "execution_count": 3,
   "metadata": {},
   "outputs": [],
   "source": [
    "idx=1"
   ]
  },
  {
   "cell_type": "code",
   "execution_count": 6,
   "metadata": {},
   "outputs": [
    {
     "data": {
      "text/plain": [
       "'ANA'"
      ]
     },
     "execution_count": 6,
     "metadata": {},
     "output_type": "execute_result"
    }
   ],
   "source": [
    "var[1:1+3]"
   ]
  },
  {
   "cell_type": "markdown",
   "metadata": {},
   "source": [
    "```\n",
    "\n",
    "BANANA\n",
    "\n",
    "Kevin (Vowel) and Stuart(consonants)\n",
    "\n",
    "\n",
    "BANANA\n",
    "012345  6\n",
    "3\n",
    "\n",
    "6-3=3\n",
    "6-1=5\n",
    "\n",
    "\n",
    "\n",
    "kevin_score=0\n",
    "--------------------------\n",
    "1 character substring\n",
    "-----------------------\n",
    "kevin_score\n",
    "string = BANANA\n",
    "used_word = set()\n",
    "\n",
    "while idx<=len(string)-charcter_length\n",
    "idx=0\n",
    "\tkevin_score\n",
    "\tidx=idx+1\n",
    "idx=1\n",
    "\tcheck vowel --True\n",
    "\t\tsubstring = string[idx]\n",
    "\t\tif substring not in used_word:\n",
    "\t\t\tcount = string.count(substring)\n",
    "\t\t\tkevin_score = kevin_score+count\n",
    "\t\t\tused_word.add(substring)\n",
    "\tidx = idx+1\n",
    "\t\n",
    "idx =2 \n",
    "\tcheck vowel --FAlse\n",
    "\t\n",
    "\tidx = idx+1\n",
    "---------------------------------------------------\n",
    "charcter_length = 2 character substring\n",
    "--------------------------------------------------\n",
    "string = BANANA\n",
    "used_word = set()\n",
    "while idx<=len(string)\n",
    "idx=0\n",
    "\tkevin_score\n",
    "\tidx=idx+1\n",
    "idx=1\n",
    "\tsubstring = string[idx:idx+charcter_length]\n",
    "\tif substring not in used_word:\n",
    "\t\t\tcount = string.count(substring)\n",
    "\t\t\tkevin_score = kevin_score+count\n",
    "\t\t\tused_word.add(substring)\n",
    "\tidx = idx+1\n",
    "\n",
    "\n",
    "```"
   ]
  },
  {
   "cell_type": "code",
   "execution_count": 18,
   "metadata": {},
   "outputs": [],
   "source": []
  },
  {
   "cell_type": "code",
   "execution_count": 19,
   "metadata": {},
   "outputs": [],
   "source": []
  },
  {
   "cell_type": "code",
   "execution_count": 28,
   "metadata": {},
   "outputs": [
    {
     "name": "stdout",
     "output_type": "stream",
     "text": [
      "kevin score 8\n"
     ]
    }
   ],
   "source": [
    "string=\"BANANA\"\n",
    "kevin_score = 0\n",
    "vowels = {'A','E','I','O','U','a','e','i','o','u'}\n",
    "substring_length=1\n",
    "max_substring_length =len(string) \n",
    "while substring_length<=max_substring_length:\n",
    "    idx=0\n",
    "    used_word =set()\n",
    "    \n",
    "    while idx<=(len(string)-substring_length):\n",
    "        substring = string[idx:idx+substring_length]\n",
    "        if substring[0] in vowels:\n",
    "            if substring not in used_word:\n",
    "                count = string.count(substring)\n",
    "                kevin_score=kevin_score+count\n",
    "                used_word.add(substring)\n",
    "                \n",
    "        idx=idx+1\n",
    "\n",
    "    #print(substring_length)\n",
    "    substring_length = substring_length+1\n",
    "print(f\"kevin score {kevin_score}\")"
   ]
  },
  {
   "cell_type": "code",
   "execution_count": 24,
   "metadata": {},
   "outputs": [],
   "source": [
    "substring = \"B\""
   ]
  },
  {
   "cell_type": "code",
   "execution_count": 26,
   "metadata": {},
   "outputs": [
    {
     "data": {
      "text/plain": [
       "False"
      ]
     },
     "execution_count": 26,
     "metadata": {},
     "output_type": "execute_result"
    }
   ],
   "source": [
    "substring[0] in vowels"
   ]
  },
  {
   "cell_type": "code",
   "execution_count": 42,
   "metadata": {},
   "outputs": [],
   "source": [
    "def get_substring_count(string,substring,starting_idx):\n",
    "    count=0\n",
    "    while string.find(substring,starting_idx)!=-1:\n",
    "        count=count+1\n",
    "        starting_idx=string.find(substring,starting_idx)+1\n",
    "    return count\n"
   ]
  },
  {
   "cell_type": "code",
   "execution_count": 45,
   "metadata": {},
   "outputs": [
    {
     "data": {
      "text/plain": [
       "2"
      ]
     },
     "execution_count": 45,
     "metadata": {},
     "output_type": "execute_result"
    }
   ],
   "source": [
    "get_substring_count(\"BANANAS\",\"AN\",0)"
   ]
  },
  {
   "cell_type": "code",
   "execution_count": 40,
   "metadata": {},
   "outputs": [
    {
     "data": {
      "text/plain": [
       "-1"
      ]
     },
     "execution_count": 40,
     "metadata": {},
     "output_type": "execute_result"
    }
   ],
   "source": [
    "\"BAANANAS\".find(\"ANA\",5)"
   ]
  },
  {
   "cell_type": "code",
   "execution_count": 36,
   "metadata": {},
   "outputs": [
    {
     "data": {
      "text/plain": [
       "1"
      ]
     },
     "execution_count": 36,
     "metadata": {},
     "output_type": "execute_result"
    }
   ],
   "source": [
    "\"BAANANAS\".count(\"ANA\")"
   ]
  },
  {
   "cell_type": "code",
   "execution_count": 46,
   "metadata": {},
   "outputs": [
    {
     "name": "stdout",
     "output_type": "stream",
     "text": [
      "{'B': 1, 'A': 4, 'N': 2, 'S': 1}\n",
      "{'BA': 1, 'AA': 1, 'AN': 2, 'NA': 2, 'AS': 1}\n",
      "{'BAA': 1, 'AAN': 1, 'ANA': 2, 'NAN': 1, 'NAS': 1}\n",
      "{'BAAN': 1, 'AANA': 1, 'ANAN': 1, 'NANA': 1, 'ANAS': 1}\n",
      "{'BAANA': 1, 'AANAN': 1, 'ANANA': 1, 'NANAS': 1}\n",
      "{'BAANAN': 1, 'AANANA': 1, 'ANANAS': 1}\n",
      "{'BAANANA': 1, 'AANANAS': 1}\n",
      "{'BAANANAS': 1}\n",
      "KEVIN 19\n"
     ]
    }
   ],
   "source": [
    "string=\"BAANANAS\"\n",
    "straut_score = 0\n",
    "kevin_score = 0 \n",
    "vowels = {'A','E','I','O','U','a','e','i','o','u'}\n",
    "substring_length=1\n",
    "max_substring_length =len(string) \n",
    "while substring_length<=max_substring_length:\n",
    "    idx=0\n",
    "    used_word =dict()\n",
    "    \n",
    "    while idx<=(len(string)-substring_length):\n",
    "        substring = string[idx:idx+substring_length]\n",
    "        if substring[0] not in vowels:\n",
    "            if not used_word.get(substring):\n",
    "                count = get_substring_count(string,substring,idx)\n",
    "                #count = string.count(substring)\n",
    "                straut_score=straut_score+count\n",
    "                used_word[substring]=count\n",
    "        else:\n",
    "            if not used_word.get(substring):\n",
    "                count = get_substring_count(string,substring,idx)\n",
    "                #count = string.count(substring)\n",
    "                kevin_score=kevin_score+count\n",
    "                used_word[substring]=count\n",
    "                #used_word.add(substring)\n",
    "        idx=idx+1\n",
    "    print(used_word)\n",
    "    #print(substring_length)\n",
    "    substring_length = substring_length+1\n",
    "\n",
    "if kevin_score>straut_score:\n",
    "    print(f\"KEVIN {kevin_score}\")\n",
    "elif straut_score>kevin_score:\n",
    "    print(f\"STRAUT {straut_score}\")\n",
    "else:\n",
    "    print(f\"DRAW\")"
   ]
  },
  {
   "cell_type": "code",
   "execution_count": null,
   "metadata": {},
   "outputs": [],
   "source": []
  },
  {
   "cell_type": "code",
   "execution_count": null,
   "metadata": {},
   "outputs": [],
   "source": [
    "4\n",
    "1+2+1 = 4\n",
    "\n",
    "\n"
   ]
  }
 ],
 "metadata": {
  "kernelspec": {
   "display_name": "base",
   "language": "python",
   "name": "python3"
  },
  "language_info": {
   "codemirror_mode": {
    "name": "ipython",
    "version": 3
   },
   "file_extension": ".py",
   "mimetype": "text/x-python",
   "name": "python",
   "nbconvert_exporter": "python",
   "pygments_lexer": "ipython3",
   "version": "3.11.5"
  }
 },
 "nbformat": 4,
 "nbformat_minor": 2
}
