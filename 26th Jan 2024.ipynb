{
 "cells": [
  {
   "cell_type": "code",
   "execution_count": 4,
   "metadata": {},
   "outputs": [],
   "source": [
    "name=\"Avnish\""
   ]
  },
  {
   "cell_type": "code",
   "execution_count": 5,
   "metadata": {},
   "outputs": [
    {
     "name": "stdout",
     "output_type": "stream",
     "text": [
      "A\n",
      "v\n",
      "n\n",
      "i\n",
      "s\n",
      "h\n"
     ]
    }
   ],
   "source": [
    "for letter in name:\n",
    "    print(letter)"
   ]
  },
  {
   "cell_type": "code",
   "execution_count": 14,
   "metadata": {},
   "outputs": [
    {
     "data": {
      "text/plain": [
       "False"
      ]
     },
     "execution_count": 14,
     "metadata": {},
     "output_type": "execute_result"
    }
   ],
   "source": [
    "name[::-1]==name"
   ]
  },
  {
   "cell_type": "code",
   "execution_count": 18,
   "metadata": {},
   "outputs": [],
   "source": [
    "number=\"121\""
   ]
  },
  {
   "cell_type": "code",
   "execution_count": 19,
   "metadata": {},
   "outputs": [
    {
     "data": {
      "text/plain": [
       "True"
      ]
     },
     "execution_count": 19,
     "metadata": {},
     "output_type": "execute_result"
    }
   ],
   "source": [
    "number[::-1]==number"
   ]
  },
  {
   "cell_type": "code",
   "execution_count": null,
   "metadata": {},
   "outputs": [],
   "source": [
    "\"\"\" prime_number\n",
    "\n",
    "number which gets divided by two number 1 and itself. \n",
    "\n",
    "example:\n",
    "Smallest Prime number: 2\n",
    "\n",
    "1 and 2\n",
    "\n",
    "\n",
    "3 \n",
    "\n",
    "1 and 3 \n",
    "\n",
    "5 \n",
    "\n",
    "1 and 5 \n",
    "\n",
    "\n",
    "13\n",
    "\n",
    "1 and 13 \n",
    "\n",
    "\n",
    "Logic\n",
    "\n",
    "number=13 ---string  <-input()\n",
    "number=13 ---integer<-typecast\n",
    "\n",
    "\n",
    "if number>2:\n",
    "    check_prime(number)\n",
    "else:\n",
    "    It is not prime number\n",
    "\n",
    "\n",
    "\n",
    "\n",
    "def check_prime(num):\n",
    "\n",
    "Logic \n",
    "\n",
    "13\n",
    "\n",
    "divide_count=1\n",
    "\n",
    "\n",
    "\n",
    "\n",
    "\n",
    "\"\"\""
   ]
  },
  {
   "cell_type": "code",
   "execution_count": 20,
   "metadata": {},
   "outputs": [
    {
     "data": {
      "text/plain": [
       "'23'"
      ]
     },
     "execution_count": 20,
     "metadata": {},
     "output_type": "execute_result"
    }
   ],
   "source": [
    "2 13"
   ]
  },
  {
   "cell_type": "code",
   "execution_count": null,
   "metadata": {},
   "outputs": [],
   "source": []
  },
  {
   "cell_type": "code",
   "execution_count": 34,
   "metadata": {},
   "outputs": [],
   "source": [
    "def check_prime(number):\n",
    "    divide_count=1\n",
    "    for n in range(2,number+1):\n",
    "        if number%n==0:\n",
    "            print(\"Divided.\",n)\n",
    "            divide_count=divide_count+1\n",
    "        else:\n",
    "            print(\"Not Divided.\",n)\n",
    "        #print(n)\n",
    "    print(\"Divide count\",divide_count)\n",
    "\n",
    "    if divide_count==2:\n",
    "        print(f\"{number} is prime.\")\n",
    "    else:\n",
    "        print(f\"{number} is not prime.\")\n",
    "    "
   ]
  },
  {
   "cell_type": "code",
   "execution_count": 48,
   "metadata": {},
   "outputs": [
    {
     "name": "stdout",
     "output_type": "stream",
     "text": [
      "Not Divided. 2\n",
      "Not Divided. 3\n",
      "Not Divided. 4\n",
      "Not Divided. 5\n",
      "Not Divided. 6\n",
      "Not Divided. 7\n",
      "Not Divided. 8\n",
      "Not Divided. 9\n",
      "Not Divided. 10\n",
      "Not Divided. 11\n",
      "Not Divided. 12\n",
      "Not Divided. 13\n",
      "Not Divided. 14\n",
      "Not Divided. 15\n",
      "Not Divided. 16\n",
      "Not Divided. 17\n",
      "Not Divided. 18\n",
      "Not Divided. 19\n",
      "Not Divided. 20\n",
      "Not Divided. 21\n",
      "Not Divided. 22\n",
      "Not Divided. 23\n",
      "Not Divided. 24\n",
      "Not Divided. 25\n",
      "Not Divided. 26\n",
      "Not Divided. 27\n",
      "Not Divided. 28\n",
      "Not Divided. 29\n",
      "Not Divided. 30\n",
      "Not Divided. 31\n",
      "Not Divided. 32\n",
      "Not Divided. 33\n",
      "Not Divided. 34\n",
      "Not Divided. 35\n",
      "Not Divided. 36\n",
      "Not Divided. 37\n",
      "Not Divided. 38\n",
      "Not Divided. 39\n",
      "Not Divided. 40\n",
      "Not Divided. 41\n",
      "Not Divided. 42\n",
      "Not Divided. 43\n",
      "Not Divided. 44\n",
      "Not Divided. 45\n",
      "Not Divided. 46\n",
      "Not Divided. 47\n",
      "Not Divided. 48\n",
      "Not Divided. 49\n",
      "Not Divided. 50\n",
      "Not Divided. 51\n",
      "Not Divided. 52\n",
      "Not Divided. 53\n",
      "Not Divided. 54\n",
      "Not Divided. 55\n",
      "Not Divided. 56\n",
      "Not Divided. 57\n",
      "Not Divided. 58\n",
      "Not Divided. 59\n",
      "Not Divided. 60\n",
      "Not Divided. 61\n",
      "Not Divided. 62\n",
      "Not Divided. 63\n",
      "Not Divided. 64\n",
      "Not Divided. 65\n",
      "Not Divided. 66\n",
      "Divided. 67\n",
      "Divide count 2\n",
      "67 is prime.\n"
     ]
    }
   ],
   "source": [
    "check_prime(67)"
   ]
  },
  {
   "cell_type": "code",
   "execution_count": 52,
   "metadata": {},
   "outputs": [],
   "source": [
    "def check_prime(number):\n",
    "    divide_count=0\n",
    "    for n in range(2,number):\n",
    "        if number%n==0:\n",
    "            print(\"Divided.\",n)\n",
    "            divide_count=divide_count+1\n",
    "        else:\n",
    "            print(\"Not Divided.\",n)\n",
    "        #print(n)\n",
    "    print(\"Divide count\",divide_count)\n",
    "\n",
    "    if divide_count==0:\n",
    "        print(f\"{number} is prime.\")\n",
    "    else:\n",
    "        print(f\"{number} is not prime.\")\n",
    "    "
   ]
  },
  {
   "cell_type": "code",
   "execution_count": 54,
   "metadata": {},
   "outputs": [
    {
     "name": "stdout",
     "output_type": "stream",
     "text": [
      "Not Divided. 2\n",
      "Not Divided. 3\n",
      "Not Divided. 4\n",
      "Not Divided. 5\n",
      "Not Divided. 6\n",
      "Not Divided. 7\n",
      "Not Divided. 8\n",
      "Not Divided. 9\n",
      "Not Divided. 10\n",
      "Not Divided. 11\n",
      "Not Divided. 12\n",
      "Divide count 0\n",
      "13 is prime.\n"
     ]
    }
   ],
   "source": [
    "check_prime(number=13)"
   ]
  },
  {
   "cell_type": "code",
   "execution_count": 1,
   "metadata": {},
   "outputs": [
    {
     "data": {
      "text/plain": [
       "'\" '"
      ]
     },
     "execution_count": 1,
     "metadata": {},
     "output_type": "execute_result"
    }
   ],
   "source": [
    "\"\"\" \n",
    "Armstrong number \n",
    "\n",
    "number =153 \n",
    "1 5 3\n",
    "1 +125 +27=153\n",
    "\n",
    "\n",
    "Logic \n",
    "\n",
    "\n",
    "\n",
    "\n",
    "\"\"\""
   ]
  },
  {
   "cell_type": "code",
   "execution_count": 2,
   "metadata": {},
   "outputs": [
    {
     "data": {
      "text/plain": [
       "153"
      ]
     },
     "execution_count": 2,
     "metadata": {},
     "output_type": "execute_result"
    }
   ],
   "source": [
    "1 +125 +27"
   ]
  },
  {
   "cell_type": "code",
   "execution_count": 7,
   "metadata": {},
   "outputs": [],
   "source": [
    "def cube(number):\n",
    "    return number**3"
   ]
  },
  {
   "cell_type": "code",
   "execution_count": 10,
   "metadata": {},
   "outputs": [
    {
     "data": {
      "text/plain": [
       "27"
      ]
     },
     "execution_count": 10,
     "metadata": {},
     "output_type": "execute_result"
    }
   ],
   "source": [
    "cube(3)"
   ]
  },
  {
   "cell_type": "code",
   "execution_count": null,
   "metadata": {},
   "outputs": [],
   "source": [
    "\"\"\" \n",
    "1 4 5\n",
    "\n",
    "num=1\n",
    "sum=0\n",
    "-------------------\n",
    "sum = sum+ num\n",
    "\n",
    "    =0+1=1\n",
    "----------------------\n",
    "sum=1\n",
    "num=4\n",
    "sum = sum+ num\n",
    "\n",
    "    =1+4=5\n",
    "----------------------\n",
    "sum=5\n",
    "num=5\n",
    "sum = sum+ num\n",
    "    = 5+5=10\n",
    "---------------------\n",
    "sum=10\n",
    "\n",
    "\n",
    "\"\"\""
   ]
  },
  {
   "cell_type": "code",
   "execution_count": 16,
   "metadata": {},
   "outputs": [
    {
     "name": "stdout",
     "output_type": "stream",
     "text": [
      "25 is not a armstrong.\n"
     ]
    }
   ],
   "source": [
    "number = input(\"Enter a number\")\n",
    "sum_of_cube = 0\n",
    "for n in number:\n",
    "    #print(n)\n",
    "    n_int = int(n)\n",
    "    cube = n_int**3\n",
    "    sum_of_cube=sum_of_cube+cube\n",
    "\n",
    "number_int = int(number)\n",
    "if number_int==sum_of_cube:\n",
    "    print(f\"{number} is armstrong.\")\n",
    "else:\n",
    "    print(f\"{number} is not a armstrong.\")\n",
    "    "
   ]
  },
  {
   "cell_type": "code",
   "execution_count": null,
   "metadata": {},
   "outputs": [],
   "source": []
  },
  {
   "cell_type": "code",
   "execution_count": null,
   "metadata": {},
   "outputs": [],
   "source": []
  }
 ],
 "metadata": {
  "kernelspec": {
   "display_name": "base",
   "language": "python",
   "name": "python3"
  },
  "language_info": {
   "codemirror_mode": {
    "name": "ipython",
    "version": 3
   },
   "file_extension": ".py",
   "mimetype": "text/x-python",
   "name": "python",
   "nbconvert_exporter": "python",
   "pygments_lexer": "ipython3",
   "version": "3.11.5"
  }
 },
 "nbformat": 4,
 "nbformat_minor": 2
}
