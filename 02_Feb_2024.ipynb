{
  "nbformat": 4,
  "nbformat_minor": 0,
  "metadata": {
    "colab": {
      "provenance": []
    },
    "kernelspec": {
      "name": "python3",
      "display_name": "Python 3"
    },
    "language_info": {
      "name": "python"
    }
  },
  "cells": [
    {
      "cell_type": "code",
      "execution_count": 1,
      "metadata": {
        "id": "n1yporRF-wZ9"
      },
      "outputs": [],
      "source": [
        "text=\"ABCDCDC\"\n",
        "\n",
        "A B C D C D C\n",
        "0 1 2 3 4 5 6"
      ]
    },
    {
      "cell_type": "code",
      "source": [
        "text"
      ],
      "metadata": {
        "colab": {
          "base_uri": "https://localhost:8080/",
          "height": 35
        },
        "id": "FKDQHebIAN8L",
        "outputId": "9f5501be-7315-492c-d0ac-15d3b3c8372b"
      },
      "execution_count": 2,
      "outputs": [
        {
          "output_type": "execute_result",
          "data": {
            "text/plain": [
              "'ABCDCDC'"
            ],
            "application/vnd.google.colaboratory.intrinsic+json": {
              "type": "string"
            }
          },
          "metadata": {},
          "execution_count": 2
        }
      ]
    },
    {
      "cell_type": "code",
      "source": [
        "a\n",
        "start_idx:0\n",
        "stop_idx:2-1=1 # default length of string\n",
        "increment:1\n",
        "\n",
        "text[]"
      ],
      "metadata": {
        "id": "QalaXKSWAWHq"
      },
      "execution_count": null,
      "outputs": []
    },
    {
      "cell_type": "code",
      "source": [
        "text[3]"
      ],
      "metadata": {
        "colab": {
          "base_uri": "https://localhost:8080/",
          "height": 35
        },
        "id": "nBKsxHtaA-bz",
        "outputId": "5047b98e-8273-4ba4-83d7-ac6e85c12887"
      },
      "execution_count": 5,
      "outputs": [
        {
          "output_type": "execute_result",
          "data": {
            "text/plain": [
              "'D'"
            ],
            "application/vnd.google.colaboratory.intrinsic+json": {
              "type": "string"
            }
          },
          "metadata": {},
          "execution_count": 5
        }
      ]
    },
    {
      "cell_type": "code",
      "source": [
        "len(text)\n",
        "\n"
      ],
      "metadata": {
        "colab": {
          "base_uri": "https://localhost:8080/"
        },
        "id": "bCl1HWAWBlMF",
        "outputId": "09bda16f-f243-4176-fb4b-0c8022ab8944"
      },
      "execution_count": 7,
      "outputs": [
        {
          "output_type": "execute_result",
          "data": {
            "text/plain": [
              "7"
            ]
          },
          "metadata": {},
          "execution_count": 7
        }
      ]
    },
    {
      "cell_type": "code",
      "source": [
        "text[1:7]"
      ],
      "metadata": {
        "colab": {
          "base_uri": "https://localhost:8080/",
          "height": 35
        },
        "id": "njFv26UhBrDE",
        "outputId": "276dd4c1-a310-4b69-bcdc-bb946229e61d"
      },
      "execution_count": 8,
      "outputs": [
        {
          "output_type": "execute_result",
          "data": {
            "text/plain": [
              "'BCDCDC'"
            ],
            "application/vnd.google.colaboratory.intrinsic+json": {
              "type": "string"
            }
          },
          "metadata": {},
          "execution_count": 8
        }
      ]
    },
    {
      "cell_type": "code",
      "source": [
        "text[1:]"
      ],
      "metadata": {
        "colab": {
          "base_uri": "https://localhost:8080/",
          "height": 35
        },
        "id": "1q-IGMbtBETT",
        "outputId": "5e30f256-8469-48da-d5a5-c6a192b7cc05"
      },
      "execution_count": 6,
      "outputs": [
        {
          "output_type": "execute_result",
          "data": {
            "text/plain": [
              "'BCDCDC'"
            ],
            "application/vnd.google.colaboratory.intrinsic+json": {
              "type": "string"
            }
          },
          "metadata": {},
          "execution_count": 6
        }
      ]
    },
    {
      "cell_type": "code",
      "source": [
        "text[1:3]  #3-2=2"
      ],
      "metadata": {
        "colab": {
          "base_uri": "https://localhost:8080/",
          "height": 35
        },
        "id": "bj6lVsR3B2Bi",
        "outputId": "9f930fa9-b536-47bb-cbab-c102e7a53cd1"
      },
      "execution_count": 9,
      "outputs": [
        {
          "output_type": "execute_result",
          "data": {
            "text/plain": [
              "'BC'"
            ],
            "application/vnd.google.colaboratory.intrinsic+json": {
              "type": "string"
            }
          },
          "metadata": {},
          "execution_count": 9
        }
      ]
    },
    {
      "cell_type": "code",
      "source": [
        "text[1:7:2]\n",
        "\n",
        "A B C D C D C\n",
        "0 1 2 3 4 5 6\n",
        "\n",
        "7-1=6\n",
        "\n",
        "7\n",
        "\n",
        "\n",
        "1+2=3\n",
        "\n",
        "3+2=5\n",
        "\n",
        "5+2=7\n",
        "\n"
      ],
      "metadata": {
        "colab": {
          "base_uri": "https://localhost:8080/",
          "height": 35
        },
        "id": "bbot7Iu9B3Hj",
        "outputId": "68c07928-48e9-4d61-bbba-c324aad1fd82"
      },
      "execution_count": 10,
      "outputs": [
        {
          "output_type": "execute_result",
          "data": {
            "text/plain": [
              "'BDD'"
            ],
            "application/vnd.google.colaboratory.intrinsic+json": {
              "type": "string"
            }
          },
          "metadata": {},
          "execution_count": 10
        }
      ]
    },
    {
      "cell_type": "code",
      "source": [
        "text=\"ABCDCDC\"\n",
        "\n",
        "A  B  C   D   C   D   C\n",
        "0  1   2  3   4   5   6  left to right\n",
        "-7 -6  -5 -4  -3  -2  -1 right to left"
      ],
      "metadata": {
        "id": "VDThqCGyCQuc"
      },
      "execution_count": null,
      "outputs": []
    },
    {
      "cell_type": "code",
      "source": [
        "text[-2],text[5]"
      ],
      "metadata": {
        "colab": {
          "base_uri": "https://localhost:8080/"
        },
        "id": "96mEwh8VC1it",
        "outputId": "1f1355b2-9694-4a13-85ec-f991d5c7f8f9"
      },
      "execution_count": 13,
      "outputs": [
        {
          "output_type": "execute_result",
          "data": {
            "text/plain": [
              "('D', 'D')"
            ]
          },
          "metadata": {},
          "execution_count": 13
        }
      ]
    },
    {
      "cell_type": "code",
      "source": [
        "text[start_idx:stop_idx-1:increment]"
      ],
      "metadata": {
        "id": "coCRZAJCDY36"
      },
      "execution_count": null,
      "outputs": []
    },
    {
      "cell_type": "code",
      "source": [
        "text[-1:-3]"
      ],
      "metadata": {
        "colab": {
          "base_uri": "https://localhost:8080/",
          "height": 35
        },
        "id": "33wsYZZYDKfM",
        "outputId": "f02de00e-23f9-4be0-b0ad-cd3837fc043d"
      },
      "execution_count": 15,
      "outputs": [
        {
          "output_type": "execute_result",
          "data": {
            "text/plain": [
              "''"
            ],
            "application/vnd.google.colaboratory.intrinsic+json": {
              "type": "string"
            }
          },
          "metadata": {},
          "execution_count": 15
        }
      ]
    },
    {
      "cell_type": "code",
      "source": [
        "-7 -6 -5 -4 -3  -2  -1  0 1 2 3"
      ],
      "metadata": {
        "id": "yLLr2N0BDjHr"
      },
      "execution_count": null,
      "outputs": []
    },
    {
      "cell_type": "code",
      "source": [
        "text[-7:-5,]\n",
        "\n",
        "\n",
        "\n",
        "\"\"\"\n",
        "icrement=1\n",
        "start=-7\n",
        "stop=-5-1=-6\n",
        "\n",
        "-7+1=  -6\n",
        "\n",
        "-6+1 = -5\n",
        "\n",
        "\"\"\""
      ],
      "metadata": {
        "colab": {
          "base_uri": "https://localhost:8080/",
          "height": 35
        },
        "id": "c5jDF70nDdND",
        "outputId": "0382c221-b037-49a8-c315-abad241407e4"
      },
      "execution_count": 17,
      "outputs": [
        {
          "output_type": "execute_result",
          "data": {
            "text/plain": [
              "'AB'"
            ],
            "application/vnd.google.colaboratory.intrinsic+json": {
              "type": "string"
            }
          },
          "metadata": {},
          "execution_count": 17
        }
      ]
    },
    {
      "cell_type": "code",
      "source": [
        "text[-5:-7:-1]\n"
      ],
      "metadata": {
        "colab": {
          "base_uri": "https://localhost:8080/",
          "height": 35
        },
        "id": "FSDHZavmE4Er",
        "outputId": "ce5d10a3-80bb-468c-d6e3-c30bf7d1a3db"
      },
      "execution_count": 19,
      "outputs": [
        {
          "output_type": "execute_result",
          "data": {
            "text/plain": [
              "'CB'"
            ],
            "application/vnd.google.colaboratory.intrinsic+json": {
              "type": "string"
            }
          },
          "metadata": {},
          "execution_count": 19
        }
      ]
    },
    {
      "cell_type": "code",
      "source": [],
      "metadata": {
        "id": "9N8OT4dwFID7"
      },
      "execution_count": null,
      "outputs": []
    },
    {
      "cell_type": "code",
      "source": [
        "text=\"ABCDCDC\"\n",
        "\n",
        "A  B  C   D   C   D   C\n",
        "0  1   2  3   4   5   6  left to right\n",
        "-7 -6  -5 -4  -3  -2  -1 right to left"
      ],
      "metadata": {
        "id": "YurkqOLrFJ0r"
      },
      "execution_count": null,
      "outputs": []
    },
    {
      "cell_type": "code",
      "source": [
        "-7-1=\n",
        "\n",
        "-5-1=-6\n",
        "-6-1=-7\n",
        "\n",
        "CB"
      ],
      "metadata": {
        "id": "IqWvypEzE6r-"
      },
      "execution_count": null,
      "outputs": []
    },
    {
      "cell_type": "code",
      "source": [
        "text[::-1],text\n",
        "\n",
        "#0\n",
        "#7\n",
        "#inc:-1\n",
        "0-1=-1\n",
        "-1-1=-2\n",
        "-2-1=-3\n",
        "\n",
        "-\n",
        "\n",
        "\n",
        "\n",
        "CD\n"
      ],
      "metadata": {
        "colab": {
          "base_uri": "https://localhost:8080/"
        },
        "id": "PkrmI9mVFiDk",
        "outputId": "e9ce3803-f42d-4cb3-e120-bfa3c58495e4"
      },
      "execution_count": 21,
      "outputs": [
        {
          "output_type": "execute_result",
          "data": {
            "text/plain": [
              "('CDCDCBA', 'ABCDCDC')"
            ]
          },
          "metadata": {},
          "execution_count": 21
        }
      ]
    },
    {
      "cell_type": "code",
      "source": [
        "string = \"ABCDCDC\"\n",
        "\n",
        "substring =\"CDC\"\n",
        "\n",
        "\"ABCDCDC\".startswith(\"CDC\")\n",
        "False\n",
        "\"BCDCDC\".startswith(\"CDC\")\n",
        "False\n",
        "\"CDCDC\".startswith(\"CDC\")\n",
        "TRUE==1\n",
        "\"DCDC\".startswith(\"CDC\")\n",
        "\"CDC\".startswith(\"CDC\")\n",
        "2\n",
        "\n",
        "\n"
      ],
      "metadata": {
        "id": "6SKAP-zoFjil"
      },
      "execution_count": 22,
      "outputs": []
    },
    {
      "cell_type": "code",
      "source": [
        "string = \"ABCDCDC\"\n",
        "\n",
        "substring =\"CDC\"\n",
        "\n",
        "\n"
      ],
      "metadata": {
        "id": "S0qKJeKkHMFc"
      },
      "execution_count": 30,
      "outputs": []
    },
    {
      "cell_type": "code",
      "source": [
        "len(string[1:]),string[2:]"
      ],
      "metadata": {
        "colab": {
          "base_uri": "https://localhost:8080/"
        },
        "id": "IlBunZ45H0k8",
        "outputId": "74dc3b8c-a89f-434e-b509-15288222b612"
      },
      "execution_count": 35,
      "outputs": [
        {
          "output_type": "execute_result",
          "data": {
            "text/plain": [
              "(6, 'CDCDC')"
            ]
          },
          "metadata": {},
          "execution_count": 35
        }
      ]
    },
    {
      "cell_type": "code",
      "source": [
        "\n",
        "substring =\"CDC\"\n",
        "string_length = len(string)\n",
        "substring_length = len(substring)\n",
        "idx=0\n",
        "count=0\n",
        "\n",
        "while substring_length<=len(string[idx:]):\n",
        "  #\"3<=7\"\n",
        "  print(f\"id: {idx} count:{count} substring_length: {substring_length} len(string[idx:]): {len(string[idx:])} string[idx:]:{string[idx:]}\")\n",
        "  if string[idx:].startswith(substring):\n",
        "    count=count+1\n",
        "  idx=idx+1\n",
        "print(count)\n",
        "\n",
        "\n",
        "\n"
      ],
      "metadata": {
        "colab": {
          "base_uri": "https://localhost:8080/"
        },
        "id": "wNIDllHdHSu7",
        "outputId": "78ba8623-ef86-4665-fab8-5d219fdef90e"
      },
      "execution_count": 37,
      "outputs": [
        {
          "output_type": "stream",
          "name": "stdout",
          "text": [
            "id: 0 count:0 substring_length: 3 len(string[idx:]): 7 string[idx:]:ABCDCDC\n",
            "id: 1 count:0 substring_length: 3 len(string[idx:]): 6 string[idx:]:BCDCDC\n",
            "id: 2 count:0 substring_length: 3 len(string[idx:]): 5 string[idx:]:CDCDC\n",
            "id: 3 count:1 substring_length: 3 len(string[idx:]): 4 string[idx:]:DCDC\n",
            "id: 4 count:1 substring_length: 3 len(string[idx:]): 3 string[idx:]:CDC\n",
            "2\n"
          ]
        }
      ]
    },
    {
      "cell_type": "code",
      "source": [
        "#string.startswith(string)\n",
        "\"ABCDCDC\".startswith(\"ABCD\")"
      ],
      "metadata": {
        "colab": {
          "base_uri": "https://localhost:8080/"
        },
        "id": "SKC4vtccGZJN",
        "outputId": "da4cae59-ef5e-4f52-9a29-5dfed8a00435"
      },
      "execution_count": 29,
      "outputs": [
        {
          "output_type": "execute_result",
          "data": {
            "text/plain": [
              "True"
            ]
          },
          "metadata": {},
          "execution_count": 29
        }
      ]
    },
    {
      "cell_type": "code",
      "source": [],
      "metadata": {
        "id": "fCRK0X5QGgW7"
      },
      "execution_count": null,
      "outputs": []
    }
  ]
}