{
 "cells": [
  {
   "cell_type": "code",
   "execution_count": 1,
   "metadata": {},
   "outputs": [
    {
     "name": "stdout",
     "output_type": "stream",
     "text": [
      "Stuart 12\n"
     ]
    }
   ],
   "source": [
    "def get_substring_count(string,substring,starting_idx):\n",
    "    count=0\n",
    "    while string.find(substring,starting_idx)!=-1:\n",
    "        count=count+1\n",
    "        starting_idx=string.find(substring,starting_idx)+1\n",
    "    return count\n",
    "\n",
    "\n",
    "\n",
    "def minion_game(string):\n",
    "    #string=\"BANANA\"\n",
    "    \n",
    "    stuart_score = 0\n",
    "    kevin_score = 0 \n",
    "    vowels = {'A','E','I','O','U','a','e','i','o','u'}\n",
    "    substring_length=1\n",
    "    max_substring_length =len(string) \n",
    "    while substring_length<=max_substring_length:\n",
    "        idx=0\n",
    "        used_word =dict()\n",
    "        \n",
    "        while idx<=(len(string)-substring_length):\n",
    "            substring = string[idx:idx+substring_length]\n",
    "            if substring[0] not in vowels:\n",
    "                if not used_word.get(substring):\n",
    "                    count = get_substring_count(string,substring,idx)\n",
    "                    #count = string.count(substring)\n",
    "                    stuart_score=stuart_score+count\n",
    "                    used_word[substring]=count\n",
    "            else:\n",
    "                if not used_word.get(substring):\n",
    "                    count = get_substring_count(string,substring,idx)\n",
    "                    #count = string.count(substring)\n",
    "                    kevin_score=kevin_score+count\n",
    "                    used_word[substring]=count\n",
    "                    #used_word.add(substring)\n",
    "            idx=idx+1\n",
    "        #print(used_word)\n",
    "        #print(substring_length)\n",
    "        substring_length = substring_length+1\n",
    "\n",
    "    if kevin_score>stuart_score:\n",
    "        print(f\"Kevin {kevin_score}\")\n",
    "    elif stuart_score>kevin_score:\n",
    "        print(f\"Stuart {stuart_score}\")\n",
    "    else:\n",
    "        print(f\"Draw\")\n",
    "\n",
    "if __name__ == '__main__':\n",
    "    s = input()\n",
    "    minion_game(s)"
   ]
  },
  {
   "cell_type": "code",
   "execution_count": null,
   "metadata": {},
   "outputs": [],
   "source": []
  }
 ],
 "metadata": {
  "kernelspec": {
   "display_name": "base",
   "language": "python",
   "name": "python3"
  },
  "language_info": {
   "codemirror_mode": {
    "name": "ipython",
    "version": 3
   },
   "file_extension": ".py",
   "mimetype": "text/x-python",
   "name": "python",
   "nbconvert_exporter": "python",
   "pygments_lexer": "ipython3",
   "version": "3.11.5"
  }
 },
 "nbformat": 4,
 "nbformat_minor": 2
}
